{
  "nbformat": 4,
  "nbformat_minor": 0,
  "metadata": {
    "colab": {
      "provenance": []
    },
    "kernelspec": {
      "name": "python3",
      "display_name": "Python 3"
    },
    "language_info": {
      "name": "python"
    }
  },
  "cells": [
    {
      "cell_type": "markdown",
      "source": [
        "Practical"
      ],
      "metadata": {
        "id": "o5TBehkUGxcK"
      }
    },
    {
      "cell_type": "markdown",
      "source": [
        "Q16 Write a Python program to train a Decision Tree Classifier on the Iris dataset and print the model accuracy?"
      ],
      "metadata": {
        "id": "T6W_pVeZGyRM"
      }
    },
    {
      "cell_type": "code",
      "source": [
        "from sklearn.datasets import load_iris\n",
        "from sklearn.model_selection import train_test_split\n",
        "from sklearn.tree import DecisionTreeClassifier\n",
        "from sklearn.metrics import accuracy_score\n",
        "\n",
        "# Load the Iris dataset\n",
        "iris = load_iris()\n",
        "X = iris.data\n",
        "y = iris.target\n",
        "\n",
        "# Split the data into training and testing sets\n",
        "X_train, X_test, y_train, y_test = train_test_split(X, y, test_size=0.3, random_state=1)\n",
        "\n",
        "# Create a Decision Tree Classifier\n",
        "dtc = DecisionTreeClassifier()\n",
        "\n",
        "# Train the model\n",
        "dtc.fit(X_train, y_train)\n",
        "\n",
        "# Make predictions on the test set\n",
        "y_pred = dtc.predict(X_test)\n",
        "\n",
        "# Calculate the accuracy of the model\n",
        "accuracy = accuracy_score(y_test, y_pred)\n",
        "print(f\"Accuracy: {accuracy}\")"
      ],
      "metadata": {
        "colab": {
          "base_uri": "https://localhost:8080/"
        },
        "id": "WODEiA82G96E",
        "outputId": "0f563203-d5ce-495b-db7a-50210aeae843"
      },
      "execution_count": 1,
      "outputs": [
        {
          "output_type": "stream",
          "name": "stdout",
          "text": [
            "Accuracy: 0.9555555555555556\n"
          ]
        }
      ]
    },
    {
      "cell_type": "markdown",
      "source": [
        "Q17. Write a Python program to train a Decision Tree Classifier using Gini Impurity as the criterion and print the feature importances?"
      ],
      "metadata": {
        "id": "Zevzk8DsHC52"
      }
    },
    {
      "cell_type": "code",
      "source": [
        "from sklearn.datasets import load_iris\n",
        "from sklearn.model_selection import train_test_split\n",
        "from sklearn.tree import DecisionTreeClassifier\n",
        "from sklearn.metrics import accuracy_score\n",
        "\n",
        "# Load the Iris dataset\n",
        "iris = load_iris()\n",
        "X = iris.data\n",
        "y = iris.target\n",
        "\n",
        "# Split the data into training and testing sets\n",
        "X_train, X_test, y_train, y_test = train_test_split(X, y, test_size=0.3, random_state=1)\n",
        "\n",
        "# Create a Decision Tree Classifier with Gini impurity as the criterion\n",
        "dtc = DecisionTreeClassifier(criterion='gini')\n",
        "\n",
        "# Train the model\n",
        "dtc.fit(X_train, y_train)\n",
        "\n",
        "# Get feature importances\n",
        "feature_importances = dtc.feature_importances_\n",
        "\n",
        "# Print feature importances\n",
        "print(\"Feature Importances:\")\n",
        "for i, importance in enumerate(feature_importances):\n",
        "    print(f\"Feature {i}: {importance}\")"
      ],
      "metadata": {
        "colab": {
          "base_uri": "https://localhost:8080/"
        },
        "id": "5Q9isZe0HKbk",
        "outputId": "f797daf2-628b-4ab4-953f-0883e9b740ab"
      },
      "execution_count": 2,
      "outputs": [
        {
          "output_type": "stream",
          "name": "stdout",
          "text": [
            "Feature Importances:\n",
            "Feature 0: 0.02146946564885496\n",
            "Feature 1: 0.02146946564885496\n",
            "Feature 2: 0.5719647633364664\n",
            "Feature 3: 0.3850963053658237\n"
          ]
        }
      ]
    },
    {
      "cell_type": "markdown",
      "source": [
        "Q18. Write a Python program to train a Decision Tree Classifier using Entropy as the splitting criterion and print the model accuracy?"
      ],
      "metadata": {
        "id": "gsHx1NEDHPLX"
      }
    },
    {
      "cell_type": "code",
      "source": [
        "# Load the Iris dataset\n",
        "iris = load_iris()\n",
        "X = iris.data\n",
        "y = iris.target\n",
        "\n",
        "# Split the data into training and testing sets\n",
        "X_train, X_test, y_train, y_test = train_test_split(X, y, test_size=0.3, random_state=1)\n",
        "\n",
        "# Create a Decision Tree Classifier with Entropy as the splitting criterion\n",
        "dtc = DecisionTreeClassifier(criterion='entropy')\n",
        "\n",
        "# Train the model\n",
        "dtc.fit(X_train, y_train)\n",
        "\n",
        "# Make predictions on the test set\n",
        "y_pred = dtc.predict(X_test)\n",
        "\n",
        "# Calculate the accuracy of the model\n",
        "accuracy = accuracy_score(y_test, y_pred)\n",
        "print(f\"Accuracy with Entropy criterion: {accuracy}\")"
      ],
      "metadata": {
        "colab": {
          "base_uri": "https://localhost:8080/"
        },
        "id": "0PMRUbmNHTXz",
        "outputId": "f9cc8c99-cff7-4299-c0da-568fffaae1ab"
      },
      "execution_count": 3,
      "outputs": [
        {
          "output_type": "stream",
          "name": "stdout",
          "text": [
            "Accuracy with Entropy criterion: 0.9555555555555556\n"
          ]
        }
      ]
    },
    {
      "cell_type": "markdown",
      "source": [
        "Q19. Write a Python program to train a Decision Tree Regressor on a housing dataset and evaluate using Mean Squared Error (MSE)?"
      ],
      "metadata": {
        "id": "_pMUI36dHZta"
      }
    },
    {
      "cell_type": "code",
      "source": [
        "from sklearn.datasets import fetch_california_housing\n",
        "from sklearn.model_selection import train_test_split\n",
        "from sklearn.tree import DecisionTreeRegressor\n",
        "from sklearn.metrics import mean_squared_error\n",
        "\n",
        "# Load the California housing dataset\n",
        "housing = fetch_california_housing()\n",
        "X = housing.data\n",
        "y = housing.target\n",
        "\n",
        "# Split the data into training and testing sets\n",
        "X_train, X_test, y_train, y_test = train_test_split(X, y, test_size=0.3, random_state=1)\n",
        "\n",
        "# Create a Decision Tree Regressor\n",
        "dtr = DecisionTreeRegressor()\n",
        "\n",
        "# Train the model\n",
        "dtr.fit(X_train, y_train)\n",
        "\n",
        "# Make predictions on the test set\n",
        "y_pred = dtr.predict(X_test)\n",
        "\n",
        "# Evaluate the model using Mean Squared Error (MSE)\n",
        "mse = mean_squared_error(y_test, y_pred)\n",
        "print(f\"Mean Squared Error: {mse}\")"
      ],
      "metadata": {
        "colab": {
          "base_uri": "https://localhost:8080/"
        },
        "id": "3PSa4J0dHe5u",
        "outputId": "13b016e2-a352-4291-a48d-261d5c1d9498"
      },
      "execution_count": 4,
      "outputs": [
        {
          "output_type": "stream",
          "name": "stdout",
          "text": [
            "Mean Squared Error: 0.4968326822259851\n"
          ]
        }
      ]
    },
    {
      "cell_type": "markdown",
      "source": [
        "Q20. Write a Python program to train a Decision Tree Classifier and visualize the tree using graphviz?"
      ],
      "metadata": {
        "id": "RPsV8aW9Hm5L"
      }
    },
    {
      "cell_type": "code",
      "source": [
        "!pip install graphviz\n",
        "\n",
        "import graphviz\n",
        "from sklearn.tree import export_graphviz\n",
        "\n",
        "# Assuming 'dtc' is your trained DecisionTreeClassifier from the previous code\n",
        "dot_data = export_graphviz(dtc, out_file=None,\n",
        "                           feature_names=iris.feature_names,\n",
        "                           class_names=iris.target_names,\n",
        "                           filled=True, rounded=True,\n",
        "                           special_characters=True)\n",
        "graph = graphviz.Source(dot_data)\n",
        "graph\n"
      ],
      "metadata": {
        "colab": {
          "base_uri": "https://localhost:8080/",
          "height": 774
        },
        "id": "zcJi4iooHsVV",
        "outputId": "34e66b12-0a79-4ee9-daec-589f58da65c5"
      },
      "execution_count": 5,
      "outputs": [
        {
          "output_type": "stream",
          "name": "stdout",
          "text": [
            "Requirement already satisfied: graphviz in /usr/local/lib/python3.11/dist-packages (0.20.3)\n"
          ]
        },
        {
          "output_type": "execute_result",
          "data": {
            "image/svg+xml": "<?xml version=\"1.0\" encoding=\"UTF-8\" standalone=\"no\"?>\n<!DOCTYPE svg PUBLIC \"-//W3C//DTD SVG 1.1//EN\"\n \"http://www.w3.org/Graphics/SVG/1.1/DTD/svg11.dtd\">\n<!-- Generated by graphviz version 2.43.0 (0)\n -->\n<!-- Title: Tree Pages: 1 -->\n<svg width=\"612pt\" height=\"552pt\"\n viewBox=\"0.00 0.00 612.00 552.00\" xmlns=\"http://www.w3.org/2000/svg\" xmlns:xlink=\"http://www.w3.org/1999/xlink\">\n<g id=\"graph0\" class=\"graph\" transform=\"scale(1 1) rotate(0) translate(4 548)\">\n<title>Tree</title>\n<polygon fill=\"white\" stroke=\"transparent\" points=\"-4,4 -4,-548 608,-548 608,4 -4,4\"/>\n<!-- 0 -->\n<g id=\"node1\" class=\"node\">\n<title>0</title>\n<path fill=\"#fdfcff\" stroke=\"black\" d=\"M291.5,-544C291.5,-544 169.5,-544 169.5,-544 163.5,-544 157.5,-538 157.5,-532 157.5,-532 157.5,-473 157.5,-473 157.5,-467 163.5,-461 169.5,-461 169.5,-461 291.5,-461 291.5,-461 297.5,-461 303.5,-467 303.5,-473 303.5,-473 303.5,-532 303.5,-532 303.5,-538 297.5,-544 291.5,-544\"/>\n<text text-anchor=\"start\" x=\"165.5\" y=\"-528.8\" font-family=\"Helvetica,sans-Serif\" font-size=\"14.00\">petal width (cm) ≤ 0.8</text>\n<text text-anchor=\"start\" x=\"183\" y=\"-513.8\" font-family=\"Helvetica,sans-Serif\" font-size=\"14.00\">entropy = 1.582</text>\n<text text-anchor=\"start\" x=\"185.5\" y=\"-498.8\" font-family=\"Helvetica,sans-Serif\" font-size=\"14.00\">samples = 105</text>\n<text text-anchor=\"start\" x=\"172.5\" y=\"-483.8\" font-family=\"Helvetica,sans-Serif\" font-size=\"14.00\">value = [36, 32, 37]</text>\n<text text-anchor=\"start\" x=\"182\" y=\"-468.8\" font-family=\"Helvetica,sans-Serif\" font-size=\"14.00\">class = virginica</text>\n</g>\n<!-- 1 -->\n<g id=\"node2\" class=\"node\">\n<title>1</title>\n<path fill=\"#e58139\" stroke=\"black\" d=\"M200,-417.5C200,-417.5 107,-417.5 107,-417.5 101,-417.5 95,-411.5 95,-405.5 95,-405.5 95,-361.5 95,-361.5 95,-355.5 101,-349.5 107,-349.5 107,-349.5 200,-349.5 200,-349.5 206,-349.5 212,-355.5 212,-361.5 212,-361.5 212,-405.5 212,-405.5 212,-411.5 206,-417.5 200,-417.5\"/>\n<text text-anchor=\"start\" x=\"113.5\" y=\"-402.3\" font-family=\"Helvetica,sans-Serif\" font-size=\"14.00\">entropy = 0.0</text>\n<text text-anchor=\"start\" x=\"112.5\" y=\"-387.3\" font-family=\"Helvetica,sans-Serif\" font-size=\"14.00\">samples = 36</text>\n<text text-anchor=\"start\" x=\"103\" y=\"-372.3\" font-family=\"Helvetica,sans-Serif\" font-size=\"14.00\">value = [36, 0, 0]</text>\n<text text-anchor=\"start\" x=\"110\" y=\"-357.3\" font-family=\"Helvetica,sans-Serif\" font-size=\"14.00\">class = setosa</text>\n</g>\n<!-- 0&#45;&gt;1 -->\n<g id=\"edge1\" class=\"edge\">\n<title>0&#45;&gt;1</title>\n<path fill=\"none\" stroke=\"black\" d=\"M203.79,-460.91C196.38,-449.65 188.33,-437.42 180.88,-426.11\"/>\n<polygon fill=\"black\" stroke=\"black\" points=\"183.75,-424.1 175.33,-417.67 177.9,-427.94 183.75,-424.1\"/>\n<text text-anchor=\"middle\" x=\"170.28\" y=\"-438.45\" font-family=\"Helvetica,sans-Serif\" font-size=\"14.00\">True</text>\n</g>\n<!-- 2 -->\n<g id=\"node3\" class=\"node\">\n<title>2</title>\n<path fill=\"#eee4fb\" stroke=\"black\" d=\"M372.5,-425C372.5,-425 242.5,-425 242.5,-425 236.5,-425 230.5,-419 230.5,-413 230.5,-413 230.5,-354 230.5,-354 230.5,-348 236.5,-342 242.5,-342 242.5,-342 372.5,-342 372.5,-342 378.5,-342 384.5,-348 384.5,-354 384.5,-354 384.5,-413 384.5,-413 384.5,-419 378.5,-425 372.5,-425\"/>\n<text text-anchor=\"start\" x=\"238.5\" y=\"-409.8\" font-family=\"Helvetica,sans-Serif\" font-size=\"14.00\">petal width (cm) ≤ 1.65</text>\n<text text-anchor=\"start\" x=\"260\" y=\"-394.8\" font-family=\"Helvetica,sans-Serif\" font-size=\"14.00\">entropy = 0.996</text>\n<text text-anchor=\"start\" x=\"266.5\" y=\"-379.8\" font-family=\"Helvetica,sans-Serif\" font-size=\"14.00\">samples = 69</text>\n<text text-anchor=\"start\" x=\"253\" y=\"-364.8\" font-family=\"Helvetica,sans-Serif\" font-size=\"14.00\">value = [0, 32, 37]</text>\n<text text-anchor=\"start\" x=\"259\" y=\"-349.8\" font-family=\"Helvetica,sans-Serif\" font-size=\"14.00\">class = virginica</text>\n</g>\n<!-- 0&#45;&gt;2 -->\n<g id=\"edge2\" class=\"edge\">\n<title>0&#45;&gt;2</title>\n<path fill=\"none\" stroke=\"black\" d=\"M257.21,-460.91C263.01,-452.1 269.2,-442.7 275.18,-433.61\"/>\n<polygon fill=\"black\" stroke=\"black\" points=\"278.26,-435.3 280.83,-425.02 272.41,-431.45 278.26,-435.3\"/>\n<text text-anchor=\"middle\" x=\"285.88\" y=\"-445.81\" font-family=\"Helvetica,sans-Serif\" font-size=\"14.00\">False</text>\n</g>\n<!-- 3 -->\n<g id=\"node4\" class=\"node\">\n<title>3</title>\n<path fill=\"#4ce88d\" stroke=\"black\" d=\"M284.5,-306C284.5,-306 156.5,-306 156.5,-306 150.5,-306 144.5,-300 144.5,-294 144.5,-294 144.5,-235 144.5,-235 144.5,-229 150.5,-223 156.5,-223 156.5,-223 284.5,-223 284.5,-223 290.5,-223 296.5,-229 296.5,-235 296.5,-235 296.5,-294 296.5,-294 296.5,-300 290.5,-306 284.5,-306\"/>\n<text text-anchor=\"start\" x=\"152.5\" y=\"-290.8\" font-family=\"Helvetica,sans-Serif\" font-size=\"14.00\">petal length (cm) ≤ 5.0</text>\n<text text-anchor=\"start\" x=\"173\" y=\"-275.8\" font-family=\"Helvetica,sans-Serif\" font-size=\"14.00\">entropy = 0.431</text>\n<text text-anchor=\"start\" x=\"179.5\" y=\"-260.8\" font-family=\"Helvetica,sans-Serif\" font-size=\"14.00\">samples = 34</text>\n<text text-anchor=\"start\" x=\"170\" y=\"-245.8\" font-family=\"Helvetica,sans-Serif\" font-size=\"14.00\">value = [0, 31, 3]</text>\n<text text-anchor=\"start\" x=\"168\" y=\"-230.8\" font-family=\"Helvetica,sans-Serif\" font-size=\"14.00\">class = versicolor</text>\n</g>\n<!-- 2&#45;&gt;3 -->\n<g id=\"edge3\" class=\"edge\">\n<title>2&#45;&gt;3</title>\n<path fill=\"none\" stroke=\"black\" d=\"M277.32,-341.91C270.64,-332.92 263.49,-323.32 256.6,-314.05\"/>\n<polygon fill=\"black\" stroke=\"black\" points=\"259.41,-311.96 250.63,-306.02 253.79,-316.13 259.41,-311.96\"/>\n</g>\n<!-- 8 -->\n<g id=\"node9\" class=\"node\">\n<title>8</title>\n<path fill=\"#853fe6\" stroke=\"black\" d=\"M462,-306C462,-306 327,-306 327,-306 321,-306 315,-300 315,-294 315,-294 315,-235 315,-235 315,-229 321,-223 327,-223 327,-223 462,-223 462,-223 468,-223 474,-229 474,-235 474,-235 474,-294 474,-294 474,-300 468,-306 462,-306\"/>\n<text text-anchor=\"start\" x=\"323\" y=\"-290.8\" font-family=\"Helvetica,sans-Serif\" font-size=\"14.00\">petal length (cm) ≤ 4.85</text>\n<text text-anchor=\"start\" x=\"347\" y=\"-275.8\" font-family=\"Helvetica,sans-Serif\" font-size=\"14.00\">entropy = 0.187</text>\n<text text-anchor=\"start\" x=\"353.5\" y=\"-260.8\" font-family=\"Helvetica,sans-Serif\" font-size=\"14.00\">samples = 35</text>\n<text text-anchor=\"start\" x=\"344\" y=\"-245.8\" font-family=\"Helvetica,sans-Serif\" font-size=\"14.00\">value = [0, 1, 34]</text>\n<text text-anchor=\"start\" x=\"346\" y=\"-230.8\" font-family=\"Helvetica,sans-Serif\" font-size=\"14.00\">class = virginica</text>\n</g>\n<!-- 2&#45;&gt;8 -->\n<g id=\"edge8\" class=\"edge\">\n<title>2&#45;&gt;8</title>\n<path fill=\"none\" stroke=\"black\" d=\"M337.68,-341.91C344.36,-332.92 351.51,-323.32 358.4,-314.05\"/>\n<polygon fill=\"black\" stroke=\"black\" points=\"361.21,-316.13 364.37,-306.02 355.59,-311.96 361.21,-316.13\"/>\n</g>\n<!-- 4 -->\n<g id=\"node5\" class=\"node\">\n<title>4</title>\n<path fill=\"#39e581\" stroke=\"black\" d=\"M109,-179.5C109,-179.5 12,-179.5 12,-179.5 6,-179.5 0,-173.5 0,-167.5 0,-167.5 0,-123.5 0,-123.5 0,-117.5 6,-111.5 12,-111.5 12,-111.5 109,-111.5 109,-111.5 115,-111.5 121,-117.5 121,-123.5 121,-123.5 121,-167.5 121,-167.5 121,-173.5 115,-179.5 109,-179.5\"/>\n<text text-anchor=\"start\" x=\"20.5\" y=\"-164.3\" font-family=\"Helvetica,sans-Serif\" font-size=\"14.00\">entropy = 0.0</text>\n<text text-anchor=\"start\" x=\"19.5\" y=\"-149.3\" font-family=\"Helvetica,sans-Serif\" font-size=\"14.00\">samples = 30</text>\n<text text-anchor=\"start\" x=\"10\" y=\"-134.3\" font-family=\"Helvetica,sans-Serif\" font-size=\"14.00\">value = [0, 30, 0]</text>\n<text text-anchor=\"start\" x=\"8\" y=\"-119.3\" font-family=\"Helvetica,sans-Serif\" font-size=\"14.00\">class = versicolor</text>\n</g>\n<!-- 3&#45;&gt;4 -->\n<g id=\"edge4\" class=\"edge\">\n<title>3&#45;&gt;4</title>\n<path fill=\"none\" stroke=\"black\" d=\"M164.99,-222.91C148.54,-210.88 130.56,-197.73 114.23,-185.79\"/>\n<polygon fill=\"black\" stroke=\"black\" points=\"115.99,-182.74 105.86,-179.67 111.86,-188.39 115.99,-182.74\"/>\n</g>\n<!-- 5 -->\n<g id=\"node6\" class=\"node\">\n<title>5</title>\n<path fill=\"#ab7bee\" stroke=\"black\" d=\"M289.5,-187C289.5,-187 151.5,-187 151.5,-187 145.5,-187 139.5,-181 139.5,-175 139.5,-175 139.5,-116 139.5,-116 139.5,-110 145.5,-104 151.5,-104 151.5,-104 289.5,-104 289.5,-104 295.5,-104 301.5,-110 301.5,-116 301.5,-116 301.5,-175 301.5,-175 301.5,-181 295.5,-187 289.5,-187\"/>\n<text text-anchor=\"start\" x=\"147.5\" y=\"-171.8\" font-family=\"Helvetica,sans-Serif\" font-size=\"14.00\">sepal length (cm) ≤ 6.05</text>\n<text text-anchor=\"start\" x=\"173\" y=\"-156.8\" font-family=\"Helvetica,sans-Serif\" font-size=\"14.00\">entropy = 0.811</text>\n<text text-anchor=\"start\" x=\"183\" y=\"-141.8\" font-family=\"Helvetica,sans-Serif\" font-size=\"14.00\">samples = 4</text>\n<text text-anchor=\"start\" x=\"173.5\" y=\"-126.8\" font-family=\"Helvetica,sans-Serif\" font-size=\"14.00\">value = [0, 1, 3]</text>\n<text text-anchor=\"start\" x=\"172\" y=\"-111.8\" font-family=\"Helvetica,sans-Serif\" font-size=\"14.00\">class = virginica</text>\n</g>\n<!-- 3&#45;&gt;5 -->\n<g id=\"edge5\" class=\"edge\">\n<title>3&#45;&gt;5</title>\n<path fill=\"none\" stroke=\"black\" d=\"M220.5,-222.91C220.5,-214.65 220.5,-205.86 220.5,-197.3\"/>\n<polygon fill=\"black\" stroke=\"black\" points=\"224,-197.02 220.5,-187.02 217,-197.02 224,-197.02\"/>\n</g>\n<!-- 6 -->\n<g id=\"node7\" class=\"node\">\n<title>6</title>\n<path fill=\"#39e581\" stroke=\"black\" d=\"M145,-68C145,-68 48,-68 48,-68 42,-68 36,-62 36,-56 36,-56 36,-12 36,-12 36,-6 42,0 48,0 48,0 145,0 145,0 151,0 157,-6 157,-12 157,-12 157,-56 157,-56 157,-62 151,-68 145,-68\"/>\n<text text-anchor=\"start\" x=\"56.5\" y=\"-52.8\" font-family=\"Helvetica,sans-Serif\" font-size=\"14.00\">entropy = 0.0</text>\n<text text-anchor=\"start\" x=\"59\" y=\"-37.8\" font-family=\"Helvetica,sans-Serif\" font-size=\"14.00\">samples = 1</text>\n<text text-anchor=\"start\" x=\"49.5\" y=\"-22.8\" font-family=\"Helvetica,sans-Serif\" font-size=\"14.00\">value = [0, 1, 0]</text>\n<text text-anchor=\"start\" x=\"44\" y=\"-7.8\" font-family=\"Helvetica,sans-Serif\" font-size=\"14.00\">class = versicolor</text>\n</g>\n<!-- 5&#45;&gt;6 -->\n<g id=\"edge6\" class=\"edge\">\n<title>5&#45;&gt;6</title>\n<path fill=\"none\" stroke=\"black\" d=\"M174.33,-103.73C163.69,-94.33 152.38,-84.35 141.78,-74.99\"/>\n<polygon fill=\"black\" stroke=\"black\" points=\"144.02,-72.3 134.21,-68.3 139.39,-77.54 144.02,-72.3\"/>\n</g>\n<!-- 7 -->\n<g id=\"node8\" class=\"node\">\n<title>7</title>\n<path fill=\"#8139e5\" stroke=\"black\" d=\"M276,-68C276,-68 187,-68 187,-68 181,-68 175,-62 175,-56 175,-56 175,-12 175,-12 175,-6 181,0 187,0 187,0 276,0 276,0 282,0 288,-6 288,-12 288,-12 288,-56 288,-56 288,-62 282,-68 276,-68\"/>\n<text text-anchor=\"start\" x=\"191.5\" y=\"-52.8\" font-family=\"Helvetica,sans-Serif\" font-size=\"14.00\">entropy = 0.0</text>\n<text text-anchor=\"start\" x=\"194\" y=\"-37.8\" font-family=\"Helvetica,sans-Serif\" font-size=\"14.00\">samples = 3</text>\n<text text-anchor=\"start\" x=\"184.5\" y=\"-22.8\" font-family=\"Helvetica,sans-Serif\" font-size=\"14.00\">value = [0, 0, 3]</text>\n<text text-anchor=\"start\" x=\"183\" y=\"-7.8\" font-family=\"Helvetica,sans-Serif\" font-size=\"14.00\">class = virginica</text>\n</g>\n<!-- 5&#45;&gt;7 -->\n<g id=\"edge7\" class=\"edge\">\n<title>5&#45;&gt;7</title>\n<path fill=\"none\" stroke=\"black\" d=\"M224.6,-103.73C225.43,-95.43 226.31,-86.67 227.15,-78.28\"/>\n<polygon fill=\"black\" stroke=\"black\" points=\"230.64,-78.6 228.15,-68.3 223.67,-77.9 230.64,-78.6\"/>\n</g>\n<!-- 9 -->\n<g id=\"node10\" class=\"node\">\n<title>9</title>\n<path fill=\"#ab7bee\" stroke=\"black\" d=\"M457,-187C457,-187 332,-187 332,-187 326,-187 320,-181 320,-175 320,-175 320,-116 320,-116 320,-110 326,-104 332,-104 332,-104 457,-104 457,-104 463,-104 469,-110 469,-116 469,-116 469,-175 469,-175 469,-181 463,-187 457,-187\"/>\n<text text-anchor=\"start\" x=\"328\" y=\"-171.8\" font-family=\"Helvetica,sans-Serif\" font-size=\"14.00\">sepal width (cm) ≤ 3.1</text>\n<text text-anchor=\"start\" x=\"347\" y=\"-156.8\" font-family=\"Helvetica,sans-Serif\" font-size=\"14.00\">entropy = 0.811</text>\n<text text-anchor=\"start\" x=\"357\" y=\"-141.8\" font-family=\"Helvetica,sans-Serif\" font-size=\"14.00\">samples = 4</text>\n<text text-anchor=\"start\" x=\"347.5\" y=\"-126.8\" font-family=\"Helvetica,sans-Serif\" font-size=\"14.00\">value = [0, 1, 3]</text>\n<text text-anchor=\"start\" x=\"346\" y=\"-111.8\" font-family=\"Helvetica,sans-Serif\" font-size=\"14.00\">class = virginica</text>\n</g>\n<!-- 8&#45;&gt;9 -->\n<g id=\"edge9\" class=\"edge\">\n<title>8&#45;&gt;9</title>\n<path fill=\"none\" stroke=\"black\" d=\"M394.5,-222.91C394.5,-214.65 394.5,-205.86 394.5,-197.3\"/>\n<polygon fill=\"black\" stroke=\"black\" points=\"398,-197.02 394.5,-187.02 391,-197.02 398,-197.02\"/>\n</g>\n<!-- 12 -->\n<g id=\"node13\" class=\"node\">\n<title>12</title>\n<path fill=\"#8139e5\" stroke=\"black\" d=\"M592,-179.5C592,-179.5 499,-179.5 499,-179.5 493,-179.5 487,-173.5 487,-167.5 487,-167.5 487,-123.5 487,-123.5 487,-117.5 493,-111.5 499,-111.5 499,-111.5 592,-111.5 592,-111.5 598,-111.5 604,-117.5 604,-123.5 604,-123.5 604,-167.5 604,-167.5 604,-173.5 598,-179.5 592,-179.5\"/>\n<text text-anchor=\"start\" x=\"505.5\" y=\"-164.3\" font-family=\"Helvetica,sans-Serif\" font-size=\"14.00\">entropy = 0.0</text>\n<text text-anchor=\"start\" x=\"504.5\" y=\"-149.3\" font-family=\"Helvetica,sans-Serif\" font-size=\"14.00\">samples = 31</text>\n<text text-anchor=\"start\" x=\"495\" y=\"-134.3\" font-family=\"Helvetica,sans-Serif\" font-size=\"14.00\">value = [0, 0, 31]</text>\n<text text-anchor=\"start\" x=\"497\" y=\"-119.3\" font-family=\"Helvetica,sans-Serif\" font-size=\"14.00\">class = virginica</text>\n</g>\n<!-- 8&#45;&gt;12 -->\n<g id=\"edge12\" class=\"edge\">\n<title>8&#45;&gt;12</title>\n<path fill=\"none\" stroke=\"black\" d=\"M446.89,-222.91C462.27,-210.99 479.07,-197.98 494.37,-186.12\"/>\n<polygon fill=\"black\" stroke=\"black\" points=\"496.93,-188.56 502.69,-179.67 492.65,-183.03 496.93,-188.56\"/>\n</g>\n<!-- 10 -->\n<g id=\"node11\" class=\"node\">\n<title>10</title>\n<path fill=\"#8139e5\" stroke=\"black\" d=\"M428,-68C428,-68 339,-68 339,-68 333,-68 327,-62 327,-56 327,-56 327,-12 327,-12 327,-6 333,0 339,0 339,0 428,0 428,0 434,0 440,-6 440,-12 440,-12 440,-56 440,-56 440,-62 434,-68 428,-68\"/>\n<text text-anchor=\"start\" x=\"343.5\" y=\"-52.8\" font-family=\"Helvetica,sans-Serif\" font-size=\"14.00\">entropy = 0.0</text>\n<text text-anchor=\"start\" x=\"346\" y=\"-37.8\" font-family=\"Helvetica,sans-Serif\" font-size=\"14.00\">samples = 3</text>\n<text text-anchor=\"start\" x=\"336.5\" y=\"-22.8\" font-family=\"Helvetica,sans-Serif\" font-size=\"14.00\">value = [0, 0, 3]</text>\n<text text-anchor=\"start\" x=\"335\" y=\"-7.8\" font-family=\"Helvetica,sans-Serif\" font-size=\"14.00\">class = virginica</text>\n</g>\n<!-- 9&#45;&gt;10 -->\n<g id=\"edge10\" class=\"edge\">\n<title>9&#45;&gt;10</title>\n<path fill=\"none\" stroke=\"black\" d=\"M390.4,-103.73C389.57,-95.43 388.69,-86.67 387.85,-78.28\"/>\n<polygon fill=\"black\" stroke=\"black\" points=\"391.33,-77.9 386.85,-68.3 384.36,-78.6 391.33,-77.9\"/>\n</g>\n<!-- 11 -->\n<g id=\"node12\" class=\"node\">\n<title>11</title>\n<path fill=\"#39e581\" stroke=\"black\" d=\"M567,-68C567,-68 470,-68 470,-68 464,-68 458,-62 458,-56 458,-56 458,-12 458,-12 458,-6 464,0 470,0 470,0 567,0 567,0 573,0 579,-6 579,-12 579,-12 579,-56 579,-56 579,-62 573,-68 567,-68\"/>\n<text text-anchor=\"start\" x=\"478.5\" y=\"-52.8\" font-family=\"Helvetica,sans-Serif\" font-size=\"14.00\">entropy = 0.0</text>\n<text text-anchor=\"start\" x=\"481\" y=\"-37.8\" font-family=\"Helvetica,sans-Serif\" font-size=\"14.00\">samples = 1</text>\n<text text-anchor=\"start\" x=\"471.5\" y=\"-22.8\" font-family=\"Helvetica,sans-Serif\" font-size=\"14.00\">value = [0, 1, 0]</text>\n<text text-anchor=\"start\" x=\"466\" y=\"-7.8\" font-family=\"Helvetica,sans-Serif\" font-size=\"14.00\">class = versicolor</text>\n</g>\n<!-- 9&#45;&gt;11 -->\n<g id=\"edge11\" class=\"edge\">\n<title>9&#45;&gt;11</title>\n<path fill=\"none\" stroke=\"black\" d=\"M440.67,-103.73C451.31,-94.33 462.62,-84.35 473.22,-74.99\"/>\n<polygon fill=\"black\" stroke=\"black\" points=\"475.61,-77.54 480.79,-68.3 470.98,-72.3 475.61,-77.54\"/>\n</g>\n</g>\n</svg>\n",
            "text/plain": [
              "<graphviz.sources.Source at 0x7de249c7f050>"
            ]
          },
          "metadata": {},
          "execution_count": 5
        }
      ]
    },
    {
      "cell_type": "markdown",
      "source": [
        "Q21. Write a Python program to train a Decision Tree Classifier with a maximum depth of 3 and compare its accuracy with a fully grown tree?"
      ],
      "metadata": {
        "id": "i5gqfzjuHzUZ"
      }
    },
    {
      "cell_type": "code",
      "source": [
        "# Load the Iris dataset\n",
        "iris = load_iris()\n",
        "X = iris.data\n",
        "y = iris.target\n",
        "\n",
        "# Split the data into training and testing sets\n",
        "X_train, X_test, y_train, y_test = train_test_split(X, y, test_size=0.3, random_state=1)\n",
        "\n",
        "# Create a Decision Tree Classifier with max_depth=3\n",
        "dtc_depth3 = DecisionTreeClassifier(max_depth=3)\n",
        "\n",
        "# Train the model\n",
        "dtc_depth3.fit(X_train, y_train)\n",
        "\n",
        "# Make predictions on the test set\n",
        "y_pred_depth3 = dtc_depth3.predict(X_test)\n",
        "\n",
        "# Calculate the accuracy of the model with max_depth=3\n",
        "accuracy_depth3 = accuracy_score(y_test, y_pred_depth3)\n",
        "print(f\"Accuracy with max_depth=3: {accuracy_depth3}\")\n",
        "\n",
        "# Create a fully grown Decision Tree Classifier\n",
        "dtc_full = DecisionTreeClassifier()\n",
        "\n",
        "# Train the model\n",
        "dtc_full.fit(X_train, y_train)\n",
        "\n",
        "# Make predictions on the test set\n",
        "y_pred_full = dtc_full.predict(X_test)\n",
        "\n",
        "# Calculate the accuracy of the fully grown model\n",
        "accuracy_full = accuracy_score(y_test, y_pred_full)\n",
        "print(f\"Accuracy of fully grown tree: {accuracy_full}\")"
      ],
      "metadata": {
        "colab": {
          "base_uri": "https://localhost:8080/"
        },
        "id": "nfsPcr1HH5oT",
        "outputId": "39f7848c-f91b-499d-9eef-53100911c6a9"
      },
      "execution_count": 6,
      "outputs": [
        {
          "output_type": "stream",
          "name": "stdout",
          "text": [
            "Accuracy with max_depth=3: 0.9555555555555556\n",
            "Accuracy of fully grown tree: 0.9555555555555556\n"
          ]
        }
      ]
    },
    {
      "cell_type": "markdown",
      "source": [
        "Q22. Write a Python program to train a Decision Tree Classifier using min_samples_split=5 and compare its accuracy with a default tree?"
      ],
      "metadata": {
        "id": "NioskraIID1I"
      }
    },
    {
      "cell_type": "code",
      "source": [
        "# Load the Iris dataset\n",
        "iris = load_iris()\n",
        "X = iris.data\n",
        "y = iris.target\n",
        "\n",
        "# Split the data into training and testing sets\n",
        "X_train, X_test, y_train, y_test = train_test_split(X, y, test_size=0.3, random_state=1)\n",
        "\n",
        "# Create a Decision Tree Classifier with min_samples_split=5\n",
        "dtc_min_samples = DecisionTreeClassifier(min_samples_split=5)\n",
        "\n",
        "# Train the model\n",
        "dtc_min_samples.fit(X_train, y_train)\n",
        "\n",
        "# Make predictions on the test set\n",
        "y_pred_min_samples = dtc_min_samples.predict(X_test)\n",
        "\n",
        "# Calculate the accuracy of the model with min_samples_split=5\n",
        "accuracy_min_samples = accuracy_score(y_test, y_pred_min_samples)\n",
        "print(f\"Accuracy with min_samples_split=5: {accuracy_min_samples}\")\n",
        "\n",
        "# Create a default Decision Tree Classifier\n",
        "dtc_default = DecisionTreeClassifier()\n",
        "\n",
        "# Train the model\n",
        "dtc_default.fit(X_train, y_train)\n",
        "\n",
        "# Make predictions on the test set\n",
        "y_pred_default = dtc_default.predict(X_test)\n",
        "\n",
        "# Calculate the accuracy of the default model\n",
        "accuracy_default = accuracy_score(y_test, y_pred_default)\n",
        "print(f\"Accuracy of default tree: {accuracy_default}\")"
      ],
      "metadata": {
        "colab": {
          "base_uri": "https://localhost:8080/"
        },
        "id": "7nGSwHDYIJSt",
        "outputId": "2103f5b9-d778-4a52-e5f9-27265e98d447"
      },
      "execution_count": 7,
      "outputs": [
        {
          "output_type": "stream",
          "name": "stdout",
          "text": [
            "Accuracy with min_samples_split=5: 0.9555555555555556\n",
            "Accuracy of default tree: 0.9555555555555556\n"
          ]
        }
      ]
    },
    {
      "cell_type": "markdown",
      "source": [
        "Q23. Write a Python program to apply feature scaling before training a Decision Tree Classifier and compare its accuracy with unscaled data?"
      ],
      "metadata": {
        "id": "hqkN4qApIWvi"
      }
    },
    {
      "cell_type": "code",
      "source": [
        "from sklearn.preprocessing import StandardScaler\n",
        "\n",
        "# Load the Iris dataset\n",
        "iris = load_iris()\n",
        "X = iris.data\n",
        "y = iris.target\n",
        "\n",
        "# Split the data into training and testing sets\n",
        "X_train, X_test, y_train, y_test = train_test_split(X, y, test_size=0.3, random_state=1)\n",
        "\n",
        "# Create a StandardScaler object\n",
        "scaler = StandardScaler()\n",
        "\n",
        "# Fit the scaler on the training data\n",
        "scaler.fit(X_train)\n",
        "\n",
        "# Transform the training and testing data\n",
        "X_train_scaled = scaler.transform(X_train)\n",
        "X_test_scaled = scaler.transform(X_test)\n",
        "\n",
        "# Create a Decision Tree Classifier\n",
        "dtc_scaled = DecisionTreeClassifier()\n",
        "\n",
        "# Train the model on scaled data\n",
        "dtc_scaled.fit(X_train_scaled, y_train)\n",
        "\n",
        "# Make predictions on the scaled test set\n",
        "y_pred_scaled = dtc_scaled.predict(X_test_scaled)\n",
        "\n",
        "# Calculate the accuracy of the model with scaled data\n",
        "accuracy_scaled = accuracy_score(y_test, y_pred_scaled)\n",
        "print(f\"Accuracy with scaled data: {accuracy_scaled}\")\n",
        "\n",
        "# Create a Decision Tree Classifier for unscaled data (already done in previous code)\n",
        "# ... (dtc, X_train, X_test, y_train, y_test, y_pred, accuracy from previous code)\n",
        "\n",
        "# Print the accuracy of the model with unscaled data\n",
        "print(f\"Accuracy with unscaled data: {accuracy}\")\n"
      ],
      "metadata": {
        "colab": {
          "base_uri": "https://localhost:8080/"
        },
        "id": "fwyqT2TnIaXL",
        "outputId": "8f5655fd-07a4-4572-a7c0-35e7fcb85b7a"
      },
      "execution_count": 8,
      "outputs": [
        {
          "output_type": "stream",
          "name": "stdout",
          "text": [
            "Accuracy with scaled data: 0.9555555555555556\n",
            "Accuracy with unscaled data: 0.9555555555555556\n"
          ]
        }
      ]
    },
    {
      "cell_type": "markdown",
      "source": [
        "Q24. Write a Python program to train a Decision Tree Classifier using One-vs-Rest (OvR) strategy for multiclass classification."
      ],
      "metadata": {
        "id": "gIQjjoZIIhPJ"
      }
    },
    {
      "cell_type": "code",
      "source": [
        "from sklearn.datasets import load_iris\n",
        "from sklearn.model_selection import train_test_split\n",
        "from sklearn.tree import DecisionTreeClassifier\n",
        "from sklearn.multiclass import OneVsRestClassifier\n",
        "from sklearn.metrics import accuracy_score\n",
        "\n",
        "# Load the Iris dataset\n",
        "iris = load_iris()\n",
        "X, y = iris.data, iris.target\n",
        "\n",
        "# Split data into training and testing sets\n",
        "X_train, X_test, y_train, y_test = train_test_split(X, y, test_size=0.3, random_state=42)\n",
        "\n",
        "# Create a Decision Tree Classifier\n",
        "dtc = DecisionTreeClassifier()\n",
        "\n",
        "# Use OneVsRestClassifier with the Decision Tree Classifier\n",
        "ovr_classifier = OneVsRestClassifier(dtc)\n",
        "\n",
        "# Train the OvR classifier\n",
        "ovr_classifier.fit(X_train, y_train)\n",
        "\n",
        "# Make predictions\n",
        "y_pred = ovr_classifier.predict(X_test)\n",
        "\n",
        "# Evaluate the model\n",
        "accuracy = accuracy_score(y_test, y_pred)\n",
        "print(f\"Accuracy of the OvR Decision Tree Classifier: {accuracy}\")"
      ],
      "metadata": {
        "colab": {
          "base_uri": "https://localhost:8080/"
        },
        "id": "VthYisRWInyO",
        "outputId": "314521f1-4b66-4046-9ebc-5608747b9535"
      },
      "execution_count": 9,
      "outputs": [
        {
          "output_type": "stream",
          "name": "stdout",
          "text": [
            "Accuracy of the OvR Decision Tree Classifier: 1.0\n"
          ]
        }
      ]
    },
    {
      "cell_type": "markdown",
      "source": [
        "Q25. Write a Python program to train a Decision Tree Classifier and display the feature importance scores."
      ],
      "metadata": {
        "id": "Zg1B_w1oIvzy"
      }
    },
    {
      "cell_type": "code",
      "source": [
        "import numpy as np\n",
        "import pandas as pd\n",
        "from sklearn.model_selection import train_test_split\n",
        "from sklearn.tree import DecisionTreeClassifier\n",
        "from sklearn.datasets import load_iris\n",
        "import matplotlib.pyplot as plt\n",
        "\n",
        "# Load dataset\n",
        "iris = load_iris()\n",
        "X, y = iris.data, iris.target\n",
        "feature_names = iris.feature_names\n",
        "\n",
        "# Split data into training and testing sets\n",
        "X_train, X_test, y_train, y_test = train_test_split(X, y, test_size=0.2, random_state=42)\n",
        "\n",
        "# Train Decision Tree Classifier\n",
        "clf = DecisionTreeClassifier(random_state=42)\n",
        "clf.fit(X_train, y_train)\n",
        "\n",
        "# Display Feature Importance\n",
        "feature_importance = clf.feature_importances_\n",
        "for name, importance in zip(feature_names, feature_importance):\n",
        "    print(f\"{name}: {importance:.4f}\")\n",
        "\n",
        "# Plot Feature Importance\n",
        "plt.figure(figsize=(8, 5))\n",
        "plt.barh(feature_names, feature_importance, color='skyblue')\n",
        "plt.xlabel(\"Feature Importance Score\")\n",
        "plt.ylabel(\"Features\")\n",
        "plt.title(\"Feature Importance in Decision Tree\")\n",
        "plt.show()\n"
      ],
      "metadata": {
        "colab": {
          "base_uri": "https://localhost:8080/",
          "height": 556
        },
        "id": "NzH0scL1KFKL",
        "outputId": "5c9eb15f-037a-465d-c93f-668d579b2377"
      },
      "execution_count": 16,
      "outputs": [
        {
          "output_type": "stream",
          "name": "stdout",
          "text": [
            "sepal length (cm): 0.0000\n",
            "sepal width (cm): 0.0167\n",
            "petal length (cm): 0.9061\n",
            "petal width (cm): 0.0772\n"
          ]
        },
        {
          "output_type": "display_data",
          "data": {
            "text/plain": [
              "<Figure size 800x500 with 1 Axes>"
            ],
            "image/png": "[encoded data removed]"
          },
          "metadata": {}
        }
      ]
    },
    {
      "cell_type": "markdown",
      "source": [
        "Q26. Write a Python program to train a Decision Tree Regressor with max_depth=5 and compare its performance with an unrestricted tree."
      ],
      "metadata": {
        "id": "0pGM7DU5I-xk"
      }
    },
    {
      "cell_type": "code",
      "source": [
        "# Load the California housing dataset\n",
        "housing = fetch_california_housing()\n",
        "X = housing.data\n",
        "y = housing.target\n",
        "\n",
        "# Split the data into training and testing sets\n",
        "X_train, X_test, y_train, y_test = train_test_split(X, y, test_size=0.3, random_state=1)\n",
        "\n",
        "# Create a Decision Tree Regressor with max_depth=5\n",
        "dtr_depth5 = DecisionTreeRegressor(max_depth=5)\n",
        "\n",
        "# Train the model\n",
        "dtr_depth5.fit(X_train, y_train)\n",
        "\n",
        "# Make predictions on the test set\n",
        "y_pred_depth5 = dtr_depth5.predict(X_test)\n",
        "\n",
        "# Evaluate the model using Mean Squared Error (MSE)\n",
        "mse_depth5 = mean_squared_error(y_test, y_pred_depth5)\n",
        "print(f\"Mean Squared Error with max_depth=5: {mse_depth5}\")\n",
        "\n",
        "# Create a Decision Tree Regressor with no restriction on depth\n",
        "dtr_full = DecisionTreeRegressor()\n",
        "\n",
        "# Train the model\n",
        "dtr_full.fit(X_train, y_train)\n",
        "\n",
        "# Make predictions on the test set\n",
        "y_pred_full = dtr_full.predict(X_test)\n",
        "\n",
        "# Evaluate the model using Mean Squared Error (MSE)\n",
        "mse_full = mean_squared_error(y_test, y_pred_full)\n",
        "print(f\"Mean Squared Error of unrestricted tree: {mse_full}\")"
      ],
      "metadata": {
        "colab": {
          "base_uri": "https://localhost:8080/"
        },
        "id": "JYUD1-j0JB6_",
        "outputId": "a7d1adb8-be98-4dab-e134-2f8b20e29d1a"
      },
      "execution_count": 11,
      "outputs": [
        {
          "output_type": "stream",
          "name": "stdout",
          "text": [
            "Mean Squared Error with max_depth=5: 0.49755998972953036\n",
            "Mean Squared Error of unrestricted tree: 0.5026859767548609\n"
          ]
        }
      ]
    },
    {
      "cell_type": "markdown",
      "source": [
        "Q27. Write a Python program to train a Decision Tree Classifier, apply Cost Complexity Pruning (CCP), and visualize its effect on accuracy."
      ],
      "metadata": {
        "id": "SR6kAamGJNl2"
      }
    },
    {
      "cell_type": "code",
      "source": [
        "import matplotlib.pyplot as plt\n",
        "from sklearn.datasets import load_iris\n",
        "from sklearn.model_selection import train_test_split\n",
        "from sklearn.tree import DecisionTreeClassifier\n",
        "\n",
        "# Load the Iris dataset\n",
        "iris = load_iris()\n",
        "X = iris.data\n",
        "y = iris.target\n",
        "\n",
        "# Split data into training and testing sets\n",
        "X_train, X_test, y_train, y_test = train_test_split(X, y, test_size=0.3, random_state=1)\n",
        "\n",
        "# Create a Decision Tree Classifier\n",
        "clf = DecisionTreeClassifier(random_state=0)\n",
        "\n",
        "# Train the classifier\n",
        "path = clf.cost_complexity_pruning_path(X_train, y_train)\n",
        "ccp_alphas, impurities = path.ccp_alphas, path.impurities\n",
        "\n",
        "# Train a decision tree classifier for each alpha\n",
        "clfs = []\n",
        "for ccp_alpha in ccp_alphas:\n",
        "    clf = DecisionTreeClassifier(random_state=0, ccp_alpha=ccp_alpha)\n",
        "    clf.fit(X_train, y_train)\n",
        "    clfs.append(clf)\n",
        "\n",
        "# Calculate accuracy scores for each tree\n",
        "train_scores = [clf.score(X_train, y_train) for clf in clfs]\n",
        "test_scores = [clf.score(X_test, y_test) for clf in clfs]\n",
        "\n",
        "# Plot accuracy vs. alpha\n",
        "fig, ax = plt.subplots()\n",
        "ax.set_xlabel(\"alpha\")\n",
        "ax.set_ylabel(\"accuracy\")\n",
        "ax.set_title(\"Accuracy vs alpha for training and testing sets\")\n",
        "ax.plot(ccp_alphas, train_scores, marker='o', label=\"train\", drawstyle=\"steps-post\")\n",
        "ax.plot(ccp_alphas, test_scores, marker='o', label=\"test\", drawstyle=\"steps-post\")\n",
        "ax.legend()\n",
        "plt.show()"
      ],
      "metadata": {
        "colab": {
          "base_uri": "https://localhost:8080/",
          "height": 472
        },
        "id": "7kojnOjnJQm8",
        "outputId": "5f415add-c16c-41ad-b32b-666d8141ecee"
      },
      "execution_count": 12,
      "outputs": [
        {
          "output_type": "display_data",
          "data": {
            "text/plain": [
              "<Figure size 640x480 with 1 Axes>"
            ],
            "image/png": "[encoded data removed]"
          },
          "metadata": {}
        }
      ]
    },
    {
      "cell_type": "markdown",
      "source": [
        "Q28. Write a Python program to train a Decision Tree Classifier and evaluate its performance using Precision, Recall, and F1-Score."
      ],
      "metadata": {
        "id": "4Y3Lsw6rJaT2"
      }
    },
    {
      "cell_type": "code",
      "source": [
        "from sklearn.metrics import precision_score, recall_score, f1_score\n",
        "\n",
        "# Assuming 'y_test' and 'y_pred' are available from a previous model training (e.g., Q16)\n",
        "# If not, replace with your actual y_test and y_pred values\n",
        "\n",
        "# Calculate precision\n",
        "precision = precision_score(y_test, y_pred, average='weighted')  # Use 'weighted' for multiclass\n",
        "\n",
        "# Calculate recall\n",
        "recall = recall_score(y_test, y_pred, average='weighted')\n",
        "\n",
        "# Calculate F1-score\n",
        "f1 = f1_score(y_test, y_pred, average='weighted')\n",
        "\n",
        "print(f\"Precision: {precision}\")\n",
        "print(f\"Recall: {recall}\")\n",
        "print(f\"F1-Score: {f1}\")"
      ],
      "metadata": {
        "colab": {
          "base_uri": "https://localhost:8080/"
        },
        "id": "oPioihhbJd1-",
        "outputId": "9dff4f34-3bfd-4cbc-bac7-b7304aa362b1"
      },
      "execution_count": 13,
      "outputs": [
        {
          "output_type": "stream",
          "name": "stdout",
          "text": [
            "Precision: 0.16950067476383268\n",
            "Recall: 0.15555555555555556\n",
            "F1-Score: 0.15957423699359183\n"
          ]
        }
      ]
    },
    {
      "cell_type": "markdown",
      "source": [
        "Q29. Write a Python program to train a Decision Tree Classifier and visualize the confusion matrix using seaborn."
      ],
      "metadata": {
        "id": "PS3LwnfrJjlI"
      }
    },
    {
      "cell_type": "code",
      "source": [
        "import seaborn as sns\n",
        "from sklearn.metrics import confusion_matrix\n",
        "\n",
        "# Assuming 'y_test' and 'y_pred' are available from a previous model training\n",
        "# (e.g., Q16 or Q24).  Replace with your actual y_test and y_pred values if needed.\n",
        "\n",
        "\n",
        "# Compute the confusion matrix\n",
        "cm = confusion_matrix(y_test, y_pred)\n",
        "\n",
        "# Plot the confusion matrix using seaborn\n",
        "plt.figure(figsize=(8, 6))\n",
        "sns.heatmap(cm, annot=True, fmt=\"d\", cmap=\"Blues\",\n",
        "            xticklabels=iris.target_names, yticklabels=iris.target_names)\n",
        "plt.xlabel(\"Predicted\")\n",
        "plt.ylabel(\"Actual\")\n",
        "plt.title(\"Confusion Matrix\")\n",
        "plt.show()"
      ],
      "metadata": {
        "colab": {
          "base_uri": "https://localhost:8080/",
          "height": 564
        },
        "id": "QAP-D26CJnLl",
        "outputId": "a20100a7-0985-4a6f-ccdf-fc0675585b0f"
      },
      "execution_count": 14,
      "outputs": [
        {
          "output_type": "display_data",
          "data": {
            "text/plain": [
              "<Figure size 800x600 with 2 Axes>"
            ],
            "image/png": "[encoded data removed]"
          },
          "metadata": {}
        }
      ]
    },
    {
      "cell_type": "markdown",
      "source": [
        "Q30. Write a Python program to train a Decision Tree Classifier and use GridSearchCV to find the optimal values for max_depth and min_samples_split."
      ],
      "metadata": {
        "id": "2009Uf1QJvj7"
      }
    },
    {
      "cell_type": "code",
      "source": [
        "from sklearn.model_selection import GridSearchCV\n",
        "\n",
        "# Define the parameter grid\n",
        "param_grid = {\n",
        "    'max_depth': [None, 10, 20, 30],\n",
        "    'min_samples_split': [2, 5, 10]\n",
        "}\n",
        "\n",
        "# Create a Decision Tree Classifier\n",
        "dtc = DecisionTreeClassifier()\n",
        "\n",
        "# Create a GridSearchCV object\n",
        "grid_search = GridSearchCV(dtc, param_grid, cv=5) # 5-fold cross-validation\n",
        "\n",
        "# Fit the GridSearchCV object to the data\n",
        "grid_search.fit(X_train, y_train)\n",
        "\n",
        "# Print the best hyperparameters and the corresponding accuracy\n",
        "print(\"Best Hyperparameters:\", grid_search.best_params_)\n",
        "print(\"Best Accuracy:\", grid_search.best_score_)\n",
        "\n",
        "# Evaluate the best model on the test set\n",
        "best_dtc = grid_search.best_estimator_\n",
        "y_pred = best_dtc.predict(X_test)\n",
        "accuracy = accuracy_score(y_test, y_pred)\n",
        "print(f\"Test Accuracy with best model: {accuracy}\")"
      ],
      "metadata": {
        "colab": {
          "base_uri": "https://localhost:8080/"
        },
        "id": "GhA7Q_t0J0Yf",
        "outputId": "9a8e5930-4c1b-41e1-af3f-6b7faa7494cd"
      },
      "execution_count": 15,
      "outputs": [
        {
          "output_type": "stream",
          "name": "stdout",
          "text": [
            "Best Hyperparameters: {'max_depth': None, 'min_samples_split': 2}\n",
            "Best Accuracy: 0.9523809523809523\n",
            "Test Accuracy with best model: 0.9555555555555556\n"
          ]
        }
      ]
    }
  ]
}